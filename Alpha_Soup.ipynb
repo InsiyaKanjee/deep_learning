{
  "nbformat": 4,
  "nbformat_minor": 0,
  "metadata": {
    "kernelspec": {
      "display_name": "Python 3",
      "language": "python",
      "name": "python3"
    },
    "language_info": {
      "codemirror_mode": {
        "name": "ipython",
        "version": 3
      },
      "file_extension": ".py",
      "mimetype": "text/x-python",
      "name": "python",
      "nbconvert_exporter": "python",
      "pygments_lexer": "ipython3",
      "version": "3.7.6"
    },
    "colab": {
      "name": "Starter_Code.ipynb",
      "provenance": []
    }
  },
  "cells": [
    {
      "cell_type": "markdown",
      "metadata": {
        "id": "8yyDeqAccYC7"
      },
      "source": [
        "## Preprocessing"
      ]
    },
    {
      "cell_type": "code",
      "metadata": {
        "id": "sVMaQgLzcYDF"
      },
      "source": [
        "# Import our dependencies\n",
        "from sklearn.model_selection import train_test_split\n",
        "from sklearn.preprocessing import StandardScaler\n",
        "import pandas as pd\n",
        "import tensorflow as tf\n",
        "\n"
      ],
      "execution_count": 89,
      "outputs": []
    },
    {
      "cell_type": "code",
      "metadata": {
        "colab": {
          "resources": {
            "http://localhost:8080/nbextensions/google.colab/files.js": {
              "data": "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",
              "ok": true,
              "headers": [
                [
                  "content-type",
                  "application/javascript"
                ]
              ],
              "status": 200,
              "status_text": ""
            }
          },
          "base_uri": "https://localhost:8080/",
          "height": 72
        },
        "id": "SMEAvVoZdpXK",
        "outputId": "25ceb482-a3ca-46cc-e414-57c397e6f99f"
      },
      "source": [
        "from google.colab import files\n",
        "uploaded = files.upload()\n",
        "\n"
      ],
      "execution_count": 90,
      "outputs": [
        {
          "output_type": "display_data",
          "data": {
            "text/html": [
              "\n",
              "     <input type=\"file\" id=\"files-3b7b3c1d-b65c-40c8-8474-8b5c5e0b0162\" name=\"files[]\" multiple disabled\n",
              "        style=\"border:none\" />\n",
              "     <output id=\"result-3b7b3c1d-b65c-40c8-8474-8b5c5e0b0162\">\n",
              "      Upload widget is only available when the cell has been executed in the\n",
              "      current browser session. Please rerun this cell to enable.\n",
              "      </output>\n",
              "      <script src=\"/nbextensions/google.colab/files.js\"></script> "
            ],
            "text/plain": [
              "<IPython.core.display.HTML object>"
            ]
          },
          "metadata": {}
        },
        {
          "output_type": "stream",
          "name": "stdout",
          "text": [
            "Saving charity_data.csv to charity_data (2).csv\n"
          ]
        }
      ]
    },
    {
      "cell_type": "code",
      "metadata": {
        "colab": {
          "base_uri": "https://localhost:8080/",
          "height": 445
        },
        "id": "10jgF8kDd3Uw",
        "outputId": "4e3ea49f-23c6-4559-ca0c-17829a8ee70f"
      },
      "source": [
        "#  Import and read the charity_data.csv.\n",
        "import io\n",
        "import pandas as pd \n",
        "application_df = pd.read_csv(io.BytesIO(uploaded['charity_data.csv']))\n",
        "application_df.head()"
      ],
      "execution_count": 91,
      "outputs": [
        {
          "output_type": "execute_result",
          "data": {
            "text/html": [
              "<div>\n",
              "<style scoped>\n",
              "    .dataframe tbody tr th:only-of-type {\n",
              "        vertical-align: middle;\n",
              "    }\n",
              "\n",
              "    .dataframe tbody tr th {\n",
              "        vertical-align: top;\n",
              "    }\n",
              "\n",
              "    .dataframe thead th {\n",
              "        text-align: right;\n",
              "    }\n",
              "</style>\n",
              "<table border=\"1\" class=\"dataframe\">\n",
              "  <thead>\n",
              "    <tr style=\"text-align: right;\">\n",
              "      <th></th>\n",
              "      <th>EIN</th>\n",
              "      <th>NAME</th>\n",
              "      <th>APPLICATION_TYPE</th>\n",
              "      <th>AFFILIATION</th>\n",
              "      <th>CLASSIFICATION</th>\n",
              "      <th>USE_CASE</th>\n",
              "      <th>ORGANIZATION</th>\n",
              "      <th>STATUS</th>\n",
              "      <th>INCOME_AMT</th>\n",
              "      <th>SPECIAL_CONSIDERATIONS</th>\n",
              "      <th>ASK_AMT</th>\n",
              "      <th>IS_SUCCESSFUL</th>\n",
              "    </tr>\n",
              "  </thead>\n",
              "  <tbody>\n",
              "    <tr>\n",
              "      <th>0</th>\n",
              "      <td>10520599</td>\n",
              "      <td>BLUE KNIGHTS MOTORCYCLE CLUB</td>\n",
              "      <td>T10</td>\n",
              "      <td>Independent</td>\n",
              "      <td>C1000</td>\n",
              "      <td>ProductDev</td>\n",
              "      <td>Association</td>\n",
              "      <td>1</td>\n",
              "      <td>0</td>\n",
              "      <td>N</td>\n",
              "      <td>5000</td>\n",
              "      <td>1</td>\n",
              "    </tr>\n",
              "    <tr>\n",
              "      <th>1</th>\n",
              "      <td>10531628</td>\n",
              "      <td>AMERICAN CHESAPEAKE CLUB CHARITABLE TR</td>\n",
              "      <td>T3</td>\n",
              "      <td>Independent</td>\n",
              "      <td>C2000</td>\n",
              "      <td>Preservation</td>\n",
              "      <td>Co-operative</td>\n",
              "      <td>1</td>\n",
              "      <td>1-9999</td>\n",
              "      <td>N</td>\n",
              "      <td>108590</td>\n",
              "      <td>1</td>\n",
              "    </tr>\n",
              "    <tr>\n",
              "      <th>2</th>\n",
              "      <td>10547893</td>\n",
              "      <td>ST CLOUD PROFESSIONAL FIREFIGHTERS</td>\n",
              "      <td>T5</td>\n",
              "      <td>CompanySponsored</td>\n",
              "      <td>C3000</td>\n",
              "      <td>ProductDev</td>\n",
              "      <td>Association</td>\n",
              "      <td>1</td>\n",
              "      <td>0</td>\n",
              "      <td>N</td>\n",
              "      <td>5000</td>\n",
              "      <td>0</td>\n",
              "    </tr>\n",
              "    <tr>\n",
              "      <th>3</th>\n",
              "      <td>10553066</td>\n",
              "      <td>SOUTHSIDE ATHLETIC ASSOCIATION</td>\n",
              "      <td>T3</td>\n",
              "      <td>CompanySponsored</td>\n",
              "      <td>C2000</td>\n",
              "      <td>Preservation</td>\n",
              "      <td>Trust</td>\n",
              "      <td>1</td>\n",
              "      <td>10000-24999</td>\n",
              "      <td>N</td>\n",
              "      <td>6692</td>\n",
              "      <td>1</td>\n",
              "    </tr>\n",
              "    <tr>\n",
              "      <th>4</th>\n",
              "      <td>10556103</td>\n",
              "      <td>GENETIC RESEARCH INSTITUTE OF THE DESERT</td>\n",
              "      <td>T3</td>\n",
              "      <td>Independent</td>\n",
              "      <td>C1000</td>\n",
              "      <td>Heathcare</td>\n",
              "      <td>Trust</td>\n",
              "      <td>1</td>\n",
              "      <td>100000-499999</td>\n",
              "      <td>N</td>\n",
              "      <td>142590</td>\n",
              "      <td>1</td>\n",
              "    </tr>\n",
              "  </tbody>\n",
              "</table>\n",
              "</div>"
            ],
            "text/plain": [
              "        EIN                                      NAME  ... ASK_AMT IS_SUCCESSFUL\n",
              "0  10520599              BLUE KNIGHTS MOTORCYCLE CLUB  ...    5000             1\n",
              "1  10531628    AMERICAN CHESAPEAKE CLUB CHARITABLE TR  ...  108590             1\n",
              "2  10547893        ST CLOUD PROFESSIONAL FIREFIGHTERS  ...    5000             0\n",
              "3  10553066            SOUTHSIDE ATHLETIC ASSOCIATION  ...    6692             1\n",
              "4  10556103  GENETIC RESEARCH INSTITUTE OF THE DESERT  ...  142590             1\n",
              "\n",
              "[5 rows x 12 columns]"
            ]
          },
          "metadata": {},
          "execution_count": 91
        }
      ]
    },
    {
      "cell_type": "code",
      "metadata": {
        "colab": {
          "base_uri": "https://localhost:8080/",
          "height": 204
        },
        "id": "D_GvVE2mcYDJ",
        "outputId": "eebeea4b-ec77-495e-df6d-706fc9b1a526"
      },
      "source": [
        "# Drop the non-beneficial ID columns, 'EIN' and 'NAME'.\n",
        "#  YOUR CODE GOES HERE\n",
        "application_df = application_df.drop([\"EIN\",\"NAME\"],axis=1)\n",
        "application_df.head()"
      ],
      "execution_count": 92,
      "outputs": [
        {
          "output_type": "execute_result",
          "data": {
            "text/html": [
              "<div>\n",
              "<style scoped>\n",
              "    .dataframe tbody tr th:only-of-type {\n",
              "        vertical-align: middle;\n",
              "    }\n",
              "\n",
              "    .dataframe tbody tr th {\n",
              "        vertical-align: top;\n",
              "    }\n",
              "\n",
              "    .dataframe thead th {\n",
              "        text-align: right;\n",
              "    }\n",
              "</style>\n",
              "<table border=\"1\" class=\"dataframe\">\n",
              "  <thead>\n",
              "    <tr style=\"text-align: right;\">\n",
              "      <th></th>\n",
              "      <th>APPLICATION_TYPE</th>\n",
              "      <th>AFFILIATION</th>\n",
              "      <th>CLASSIFICATION</th>\n",
              "      <th>USE_CASE</th>\n",
              "      <th>ORGANIZATION</th>\n",
              "      <th>STATUS</th>\n",
              "      <th>INCOME_AMT</th>\n",
              "      <th>SPECIAL_CONSIDERATIONS</th>\n",
              "      <th>ASK_AMT</th>\n",
              "      <th>IS_SUCCESSFUL</th>\n",
              "    </tr>\n",
              "  </thead>\n",
              "  <tbody>\n",
              "    <tr>\n",
              "      <th>0</th>\n",
              "      <td>T10</td>\n",
              "      <td>Independent</td>\n",
              "      <td>C1000</td>\n",
              "      <td>ProductDev</td>\n",
              "      <td>Association</td>\n",
              "      <td>1</td>\n",
              "      <td>0</td>\n",
              "      <td>N</td>\n",
              "      <td>5000</td>\n",
              "      <td>1</td>\n",
              "    </tr>\n",
              "    <tr>\n",
              "      <th>1</th>\n",
              "      <td>T3</td>\n",
              "      <td>Independent</td>\n",
              "      <td>C2000</td>\n",
              "      <td>Preservation</td>\n",
              "      <td>Co-operative</td>\n",
              "      <td>1</td>\n",
              "      <td>1-9999</td>\n",
              "      <td>N</td>\n",
              "      <td>108590</td>\n",
              "      <td>1</td>\n",
              "    </tr>\n",
              "    <tr>\n",
              "      <th>2</th>\n",
              "      <td>T5</td>\n",
              "      <td>CompanySponsored</td>\n",
              "      <td>C3000</td>\n",
              "      <td>ProductDev</td>\n",
              "      <td>Association</td>\n",
              "      <td>1</td>\n",
              "      <td>0</td>\n",
              "      <td>N</td>\n",
              "      <td>5000</td>\n",
              "      <td>0</td>\n",
              "    </tr>\n",
              "    <tr>\n",
              "      <th>3</th>\n",
              "      <td>T3</td>\n",
              "      <td>CompanySponsored</td>\n",
              "      <td>C2000</td>\n",
              "      <td>Preservation</td>\n",
              "      <td>Trust</td>\n",
              "      <td>1</td>\n",
              "      <td>10000-24999</td>\n",
              "      <td>N</td>\n",
              "      <td>6692</td>\n",
              "      <td>1</td>\n",
              "    </tr>\n",
              "    <tr>\n",
              "      <th>4</th>\n",
              "      <td>T3</td>\n",
              "      <td>Independent</td>\n",
              "      <td>C1000</td>\n",
              "      <td>Heathcare</td>\n",
              "      <td>Trust</td>\n",
              "      <td>1</td>\n",
              "      <td>100000-499999</td>\n",
              "      <td>N</td>\n",
              "      <td>142590</td>\n",
              "      <td>1</td>\n",
              "    </tr>\n",
              "  </tbody>\n",
              "</table>\n",
              "</div>"
            ],
            "text/plain": [
              "  APPLICATION_TYPE       AFFILIATION  ... ASK_AMT IS_SUCCESSFUL\n",
              "0              T10       Independent  ...    5000             1\n",
              "1               T3       Independent  ...  108590             1\n",
              "2               T5  CompanySponsored  ...    5000             0\n",
              "3               T3  CompanySponsored  ...    6692             1\n",
              "4               T3       Independent  ...  142590             1\n",
              "\n",
              "[5 rows x 10 columns]"
            ]
          },
          "metadata": {},
          "execution_count": 92
        }
      ]
    },
    {
      "cell_type": "code",
      "metadata": {
        "colab": {
          "base_uri": "https://localhost:8080/"
        },
        "id": "vUnr7B3mcYDK",
        "outputId": "2ca1b841-5f81-4bc5-fa3c-906eef4f9a65"
      },
      "source": [
        "# Determine the number of unique values in each column.\n",
        "#  YOUR CODE GOES HERE\n",
        "application_df.nunique(axis=0)"
      ],
      "execution_count": 93,
      "outputs": [
        {
          "output_type": "execute_result",
          "data": {
            "text/plain": [
              "APPLICATION_TYPE            17\n",
              "AFFILIATION                  6\n",
              "CLASSIFICATION              71\n",
              "USE_CASE                     5\n",
              "ORGANIZATION                 4\n",
              "STATUS                       2\n",
              "INCOME_AMT                   9\n",
              "SPECIAL_CONSIDERATIONS       2\n",
              "ASK_AMT                   8747\n",
              "IS_SUCCESSFUL                2\n",
              "dtype: int64"
            ]
          },
          "metadata": {},
          "execution_count": 93
        }
      ]
    },
    {
      "cell_type": "code",
      "metadata": {
        "colab": {
          "base_uri": "https://localhost:8080/"
        },
        "id": "yMDVzW8IcYDL",
        "outputId": "86bbfd6c-6839-4372-9d97-5889b81455dc"
      },
      "source": [
        "# Look at APPLICATION_TYPE value counts for binning\n",
        "#  YOUR CODE GOES HERE\n",
        "application_df[\"APPLICATION_TYPE\"].value_counts()"
      ],
      "execution_count": 94,
      "outputs": [
        {
          "output_type": "execute_result",
          "data": {
            "text/plain": [
              "T3     27037\n",
              "T4      1542\n",
              "T6      1216\n",
              "T5      1173\n",
              "T19     1065\n",
              "T8       737\n",
              "T7       725\n",
              "T10      528\n",
              "T9       156\n",
              "T13       66\n",
              "T12       27\n",
              "T2        16\n",
              "T25        3\n",
              "T14        3\n",
              "T29        2\n",
              "T15        2\n",
              "T17        1\n",
              "Name: APPLICATION_TYPE, dtype: int64"
            ]
          },
          "metadata": {},
          "execution_count": 94
        }
      ]
    },
    {
      "cell_type": "code",
      "metadata": {
        "colab": {
          "base_uri": "https://localhost:8080/"
        },
        "id": "qUiHDWNHlkJP",
        "outputId": "c4ba854c-a3b7-437e-b500-d14ea23cf272"
      },
      "source": [
        "# Choose a cutoff value and create a list of application types to be replaced\n",
        "# use the variable name `application_types_to_replace`\n",
        "#  YOUR CODE GOES HERE\n",
        "application_types_to_replace=['T9','T13','T12','T2','T25','T14','T29','T15','T17']\n",
        "\n",
        "# Replace in dataframe\n",
        "for app in application_types_to_replace:\n",
        "    application_df['APPLICATION_TYPE'] = application_df['APPLICATION_TYPE'].replace(app,\"Other\")\n",
        "\n",
        "# Check to make sure binning was successful\n",
        "application_df['APPLICATION_TYPE'].value_counts()"
      ],
      "execution_count": 95,
      "outputs": [
        {
          "output_type": "execute_result",
          "data": {
            "text/plain": [
              "T3       27037\n",
              "T4        1542\n",
              "T6        1216\n",
              "T5        1173\n",
              "T19       1065\n",
              "T8         737\n",
              "T7         725\n",
              "T10        528\n",
              "Other      276\n",
              "Name: APPLICATION_TYPE, dtype: int64"
            ]
          },
          "metadata": {},
          "execution_count": 95
        }
      ]
    },
    {
      "cell_type": "code",
      "metadata": {
        "colab": {
          "base_uri": "https://localhost:8080/"
        },
        "id": "VNgv3ji0cYDM",
        "outputId": "da0b9a7b-2d29-4e49-a5d5-825c9762f147"
      },
      "source": [
        "# Look at CLASSIFICATION value counts for binning\n",
        "#  YOUR CODE GOES HERE\n",
        "application_df[\"CLASSIFICATION\"].value_counts()\n"
      ],
      "execution_count": 96,
      "outputs": [
        {
          "output_type": "execute_result",
          "data": {
            "text/plain": [
              "C1000    17326\n",
              "C2000     6074\n",
              "C1200     4837\n",
              "C3000     1918\n",
              "C2100     1883\n",
              "         ...  \n",
              "C1570        1\n",
              "C1732        1\n",
              "C2561        1\n",
              "C2570        1\n",
              "C4500        1\n",
              "Name: CLASSIFICATION, Length: 71, dtype: int64"
            ]
          },
          "metadata": {},
          "execution_count": 96
        }
      ]
    },
    {
      "cell_type": "code",
      "metadata": {
        "colab": {
          "base_uri": "https://localhost:8080/"
        },
        "id": "SWV8oZ4dcYDO",
        "outputId": "b3b41e37-c3fe-409a-8f85-4cdd3dfbdea3"
      },
      "source": [
        "# You may find it helpful to look at CLASSIFICATION value counts >1\n",
        "#  YOUR CODE GOES HERE\n",
        "application_df[\"CLASSIFICATION\"].value_counts()[application_df[\"CLASSIFICATION\"].value_counts()>1]\n",
        "\n",
        "\n"
      ],
      "execution_count": 97,
      "outputs": [
        {
          "output_type": "execute_result",
          "data": {
            "text/plain": [
              "C1000    17326\n",
              "C2000     6074\n",
              "C1200     4837\n",
              "C3000     1918\n",
              "C2100     1883\n",
              "C7000      777\n",
              "C1700      287\n",
              "C4000      194\n",
              "C5000      116\n",
              "C1270      114\n",
              "C2700      104\n",
              "C2800       95\n",
              "C7100       75\n",
              "C1300       58\n",
              "C1280       50\n",
              "C1230       36\n",
              "C1400       34\n",
              "C2300       32\n",
              "C7200       32\n",
              "C1240       30\n",
              "C8000       20\n",
              "C7120       18\n",
              "C1500       16\n",
              "C6000       15\n",
              "C1800       15\n",
              "C1250       14\n",
              "C8200       11\n",
              "C1238       10\n",
              "C1278       10\n",
              "C1237        9\n",
              "C1235        9\n",
              "C7210        7\n",
              "C2400        6\n",
              "C1720        6\n",
              "C4100        6\n",
              "C1600        5\n",
              "C1257        5\n",
              "C0           3\n",
              "C2710        3\n",
              "C1260        3\n",
              "C1267        2\n",
              "C3200        2\n",
              "C1234        2\n",
              "C1256        2\n",
              "C1246        2\n",
              "Name: CLASSIFICATION, dtype: int64"
            ]
          },
          "metadata": {},
          "execution_count": 97
        }
      ]
    },
    {
      "cell_type": "code",
      "metadata": {
        "colab": {
          "base_uri": "https://localhost:8080/"
        },
        "id": "LO3E26wynibf",
        "outputId": "c1abe9ca-bc56-49e4-d2ce-027dd30273cf"
      },
      "source": [
        "cutoff_class=application_df[\"CLASSIFICATION\"].value_counts()[application_df[\"CLASSIFICATION\"].value_counts()<1000]\n",
        "classifications_to_replace=cutoff_class.index\n",
        "classifications_to_replace"
      ],
      "execution_count": 98,
      "outputs": [
        {
          "output_type": "execute_result",
          "data": {
            "text/plain": [
              "Index(['C7000', 'C1700', 'C4000', 'C5000', 'C1270', 'C2700', 'C2800', 'C7100',\n",
              "       'C1300', 'C1280', 'C1230', 'C1400', 'C2300', 'C7200', 'C1240', 'C8000',\n",
              "       'C7120', 'C1500', 'C6000', 'C1800', 'C1250', 'C8200', 'C1238', 'C1278',\n",
              "       'C1237', 'C1235', 'C7210', 'C2400', 'C1720', 'C4100', 'C1600', 'C1257',\n",
              "       'C0', 'C2710', 'C1260', 'C1267', 'C3200', 'C1234', 'C1256', 'C1246',\n",
              "       'C5200', 'C2380', 'C6100', 'C1248', 'C1580', 'C1370', 'C2190', 'C4120',\n",
              "       'C1245', 'C4200', 'C2500', 'C8210', 'C1820', 'C2170', 'C1236', 'C3700',\n",
              "       'C1283', 'C2150', 'C1728', 'C1900', 'C2600', 'C1570', 'C1732', 'C2561',\n",
              "       'C2570', 'C4500'],\n",
              "      dtype='object')"
            ]
          },
          "metadata": {},
          "execution_count": 98
        }
      ]
    },
    {
      "cell_type": "code",
      "metadata": {
        "colab": {
          "base_uri": "https://localhost:8080/"
        },
        "id": "eGAX3DN6oRkU",
        "outputId": "4dcf37cd-12f5-4b4b-aff4-b812de5ef414"
      },
      "source": [
        "# Choose a cutoff value and create a list of classifications to be replaced\n",
        "# use the variable name `classifications_to_replace`\n",
        "#  YOUR CODE GOES HERE\n",
        "\n",
        "# Replace in dataframe\n",
        "for cls in classifications_to_replace:\n",
        "    application_df['CLASSIFICATION'] = application_df['CLASSIFICATION'].replace(cls,\"Other\")\n",
        "    \n",
        "# Check to make sure binning was successful\n",
        "application_df['CLASSIFICATION'].value_counts()"
      ],
      "execution_count": 99,
      "outputs": [
        {
          "output_type": "execute_result",
          "data": {
            "text/plain": [
              "C1000    17326\n",
              "C2000     6074\n",
              "C1200     4837\n",
              "Other     2261\n",
              "C3000     1918\n",
              "C2100     1883\n",
              "Name: CLASSIFICATION, dtype: int64"
            ]
          },
          "metadata": {},
          "execution_count": 99
        }
      ]
    },
    {
      "cell_type": "code",
      "metadata": {
        "colab": {
          "base_uri": "https://localhost:8080/"
        },
        "id": "CJEFJLqFcYDQ",
        "outputId": "4bccb0f6-a053-48e3-f8d9-b67e20f95506"
      },
      "source": [
        "# Convert categorical data to numeric with `pd.get_dummies`\n",
        "df_numerical = pd.get_dummies(application_df)\n",
        "#  YOUR CODE GOES HERE\n",
        "df_numerical.dtypes"
      ],
      "execution_count": 100,
      "outputs": [
        {
          "output_type": "execute_result",
          "data": {
            "text/plain": [
              "STATUS                          int64\n",
              "ASK_AMT                         int64\n",
              "IS_SUCCESSFUL                   int64\n",
              "APPLICATION_TYPE_Other          uint8\n",
              "APPLICATION_TYPE_T10            uint8\n",
              "APPLICATION_TYPE_T19            uint8\n",
              "APPLICATION_TYPE_T3             uint8\n",
              "APPLICATION_TYPE_T4             uint8\n",
              "APPLICATION_TYPE_T5             uint8\n",
              "APPLICATION_TYPE_T6             uint8\n",
              "APPLICATION_TYPE_T7             uint8\n",
              "APPLICATION_TYPE_T8             uint8\n",
              "AFFILIATION_CompanySponsored    uint8\n",
              "AFFILIATION_Family/Parent       uint8\n",
              "AFFILIATION_Independent         uint8\n",
              "AFFILIATION_National            uint8\n",
              "AFFILIATION_Other               uint8\n",
              "AFFILIATION_Regional            uint8\n",
              "CLASSIFICATION_C1000            uint8\n",
              "CLASSIFICATION_C1200            uint8\n",
              "CLASSIFICATION_C2000            uint8\n",
              "CLASSIFICATION_C2100            uint8\n",
              "CLASSIFICATION_C3000            uint8\n",
              "CLASSIFICATION_Other            uint8\n",
              "USE_CASE_CommunityServ          uint8\n",
              "USE_CASE_Heathcare              uint8\n",
              "USE_CASE_Other                  uint8\n",
              "USE_CASE_Preservation           uint8\n",
              "USE_CASE_ProductDev             uint8\n",
              "ORGANIZATION_Association        uint8\n",
              "ORGANIZATION_Co-operative       uint8\n",
              "ORGANIZATION_Corporation        uint8\n",
              "ORGANIZATION_Trust              uint8\n",
              "INCOME_AMT_0                    uint8\n",
              "INCOME_AMT_1-9999               uint8\n",
              "INCOME_AMT_10000-24999          uint8\n",
              "INCOME_AMT_100000-499999        uint8\n",
              "INCOME_AMT_10M-50M              uint8\n",
              "INCOME_AMT_1M-5M                uint8\n",
              "INCOME_AMT_25000-99999          uint8\n",
              "INCOME_AMT_50M+                 uint8\n",
              "INCOME_AMT_5M-10M               uint8\n",
              "SPECIAL_CONSIDERATIONS_N        uint8\n",
              "SPECIAL_CONSIDERATIONS_Y        uint8\n",
              "dtype: object"
            ]
          },
          "metadata": {},
          "execution_count": 100
        }
      ]
    },
    {
      "cell_type": "code",
      "metadata": {
        "id": "udABrWY7cYDR"
      },
      "source": [
        "# Split our preprocessed data into our features and target arrays\n",
        "#  YOUR CODE GOES HERE\n",
        "target = pd.DataFrame(df_numerical.IS_SUCCESSFUL).values.reshape(-1, 1)\n",
        "features = df_numerical.drop(\"IS_SUCCESSFUL\", axis=1).values\n",
        "\n",
        "\n",
        "# Split the preprocessed data into a training and testing dataset\n",
        "#  YOUR CODE GOES HERE\n",
        "X_train, X_test, y_train, y_test = train_test_split(features, target)"
      ],
      "execution_count": 101,
      "outputs": []
    },
    {
      "cell_type": "code",
      "metadata": {
        "id": "0HBKfMGwcYDS"
      },
      "source": [
        "# Create a StandardScaler instances\n",
        "scaler = StandardScaler()\n",
        "\n",
        "# Fit the StandardScaler\n",
        "X_scaler = scaler.fit(X_train)\n",
        "\n",
        "# Scale the data\n",
        "X_train_scaled = X_scaler.transform(X_train)\n",
        "X_test_scaled = X_scaler.transform(X_test)"
      ],
      "execution_count": 102,
      "outputs": []
    },
    {
      "cell_type": "code",
      "metadata": {
        "colab": {
          "base_uri": "https://localhost:8080/"
        },
        "id": "5MC8Z-mbrva7",
        "outputId": "7d4408b7-7bc2-42a5-b198-7f13b19de813"
      },
      "source": [
        "number_input_features = len(X_train_scaled[0])\n",
        "number_input_features"
      ],
      "execution_count": 103,
      "outputs": [
        {
          "output_type": "execute_result",
          "data": {
            "text/plain": [
              "43"
            ]
          },
          "metadata": {},
          "execution_count": 103
        }
      ]
    },
    {
      "cell_type": "markdown",
      "metadata": {
        "id": "tVGEjxyYcYDS"
      },
      "source": [
        "## Compile, Train and Evaluate the Model"
      ]
    },
    {
      "cell_type": "code",
      "metadata": {
        "colab": {
          "base_uri": "https://localhost:8080/"
        },
        "id": "_k79739ecYDT",
        "outputId": "15297f38-3093-4907-9288-1ecdb8c19d08"
      },
      "source": [
        "# Define the model - deep neural net, i.e., the number of input features and hidden nodes for each layer.\n",
        "#  YOUR CODE GOES HERE\n",
        "number_input_features = len(X_train_scaled[0])\n",
        "\n",
        "nn = tf.keras.models.Sequential()\n",
        "\n",
        "# First hidden layer\n",
        "#  YOUR CODE GOES HERE\n",
        "nn.add(tf.keras.layers.Dense(units=80, input_dim=number_input_features, activation=\"relu\"))\n",
        "# Second hidden layer\n",
        "#  YOUR CODE GOES HERE\n",
        "nn.add(tf.keras.layers.Dense(units=30, activation=\"relu\"))\n",
        "# Output layer\n",
        "#  YOUR CODE GOES HERE\n",
        "nn.add(tf.keras.layers.Dense(units=1, activation=\"sigmoid\"))\n",
        "\n",
        "# Check the structure of the model\n",
        "nn.summary()"
      ],
      "execution_count": 104,
      "outputs": [
        {
          "output_type": "stream",
          "name": "stdout",
          "text": [
            "Model: \"sequential_1\"\n",
            "_________________________________________________________________\n",
            "Layer (type)                 Output Shape              Param #   \n",
            "=================================================================\n",
            "dense_3 (Dense)              (None, 80)                3520      \n",
            "_________________________________________________________________\n",
            "dense_4 (Dense)              (None, 30)                2430      \n",
            "_________________________________________________________________\n",
            "dense_5 (Dense)              (None, 1)                 31        \n",
            "=================================================================\n",
            "Total params: 5,981\n",
            "Trainable params: 5,981\n",
            "Non-trainable params: 0\n",
            "_________________________________________________________________\n"
          ]
        }
      ]
    },
    {
      "cell_type": "code",
      "metadata": {
        "id": "Ag2_Qi1WcYDU"
      },
      "source": [
        "# Compile the model\n",
        "#  YOUR CODE GOES HERE\n",
        "nn.compile(loss=\"binary_crossentropy\", optimizer=\"adam\", metrics=[\"accuracy\"])"
      ],
      "execution_count": 105,
      "outputs": []
    },
    {
      "cell_type": "code",
      "metadata": {
        "colab": {
          "base_uri": "https://localhost:8080/"
        },
        "id": "lx1b6RxT9Pcx",
        "outputId": "a1767feb-7443-45cf-995e-368cbde3cde2"
      },
      "source": [
        "# Add model weight checkpoints during training\n",
        "import os\n",
        "from tensorflow.keras.callbacks import ModelCheckpoint\n",
        "os.makedirs(\"checkpoints/\", exist_ok=True)\n",
        "checkpoint_path=\"checkpoints/weights.{epoch}.hdf5\"\n",
        "\n",
        "# Create callback that saves the model's weights every 5 epochs\n",
        "cp_callback = ModelCheckpoint(filepath=checkpoint_path,\n",
        "                              verbose=1,\n",
        "                              save_weights_only=True,\n",
        "                              save_freq=\"epoch\",\n",
        "                              period=5)"
      ],
      "execution_count": 106,
      "outputs": [
        {
          "output_type": "stream",
          "name": "stdout",
          "text": [
            "WARNING:tensorflow:`period` argument is deprecated. Please use `save_freq` to specify the frequency in number of batches seen.\n"
          ]
        }
      ]
    },
    {
      "cell_type": "code",
      "metadata": {
        "colab": {
          "base_uri": "https://localhost:8080/"
        },
        "id": "TeIw77JJcYDV",
        "outputId": "fe142531-2b0c-4b4e-b19c-81444b035d1d"
      },
      "source": [
        "# Train the model\n",
        "#  YOUR CODE GOES HERE\n",
        "fit_model = nn.fit(X_train_scaled, y_train, epochs=100,callbacks=[cp_callback])"
      ],
      "execution_count": 107,
      "outputs": [
        {
          "output_type": "stream",
          "name": "stdout",
          "text": [
            "Epoch 1/100\n",
            "804/804 [==============================] - 2s 2ms/step - loss: 0.5699 - accuracy: 0.7200\n",
            "Epoch 2/100\n",
            "804/804 [==============================] - 1s 1ms/step - loss: 0.5549 - accuracy: 0.7281\n",
            "Epoch 3/100\n",
            "804/804 [==============================] - 1s 1ms/step - loss: 0.5508 - accuracy: 0.7299\n",
            "Epoch 4/100\n",
            "804/804 [==============================] - 1s 1ms/step - loss: 0.5502 - accuracy: 0.7290\n",
            "Epoch 5/100\n",
            "804/804 [==============================] - 1s 1ms/step - loss: 0.5490 - accuracy: 0.7308\n",
            "\n",
            "Epoch 00005: saving model to checkpoints/weights.5.hdf5\n",
            "Epoch 6/100\n",
            "804/804 [==============================] - 1s 1ms/step - loss: 0.5479 - accuracy: 0.7305\n",
            "Epoch 7/100\n",
            "804/804 [==============================] - 1s 1ms/step - loss: 0.5475 - accuracy: 0.7324\n",
            "Epoch 8/100\n",
            "804/804 [==============================] - 1s 1ms/step - loss: 0.5469 - accuracy: 0.7313\n",
            "Epoch 9/100\n",
            "804/804 [==============================] - 1s 1ms/step - loss: 0.5463 - accuracy: 0.7338\n",
            "Epoch 10/100\n",
            "804/804 [==============================] - 1s 1ms/step - loss: 0.5460 - accuracy: 0.7324\n",
            "\n",
            "Epoch 00010: saving model to checkpoints/weights.10.hdf5\n",
            "Epoch 11/100\n",
            "804/804 [==============================] - 1s 1ms/step - loss: 0.5455 - accuracy: 0.7324\n",
            "Epoch 12/100\n",
            "804/804 [==============================] - 1s 1ms/step - loss: 0.5451 - accuracy: 0.7323\n",
            "Epoch 13/100\n",
            "804/804 [==============================] - 1s 1ms/step - loss: 0.5442 - accuracy: 0.7341\n",
            "Epoch 14/100\n",
            "804/804 [==============================] - 1s 1ms/step - loss: 0.5440 - accuracy: 0.7334\n",
            "Epoch 15/100\n",
            "804/804 [==============================] - 1s 1ms/step - loss: 0.5437 - accuracy: 0.7345\n",
            "\n",
            "Epoch 00015: saving model to checkpoints/weights.15.hdf5\n",
            "Epoch 16/100\n",
            "804/804 [==============================] - 1s 1ms/step - loss: 0.5432 - accuracy: 0.7344\n",
            "Epoch 17/100\n",
            "804/804 [==============================] - 1s 1ms/step - loss: 0.5432 - accuracy: 0.7347\n",
            "Epoch 18/100\n",
            "804/804 [==============================] - 1s 1ms/step - loss: 0.5424 - accuracy: 0.7355\n",
            "Epoch 19/100\n",
            "804/804 [==============================] - 1s 1ms/step - loss: 0.5426 - accuracy: 0.7350\n",
            "Epoch 20/100\n",
            "804/804 [==============================] - 1s 1ms/step - loss: 0.5420 - accuracy: 0.7352\n",
            "\n",
            "Epoch 00020: saving model to checkpoints/weights.20.hdf5\n",
            "Epoch 21/100\n",
            "804/804 [==============================] - 1s 1ms/step - loss: 0.5420 - accuracy: 0.7348\n",
            "Epoch 22/100\n",
            "804/804 [==============================] - 1s 1ms/step - loss: 0.5417 - accuracy: 0.7346\n",
            "Epoch 23/100\n",
            "804/804 [==============================] - 1s 1ms/step - loss: 0.5415 - accuracy: 0.7360\n",
            "Epoch 24/100\n",
            "804/804 [==============================] - 1s 1ms/step - loss: 0.5413 - accuracy: 0.7359\n",
            "Epoch 25/100\n",
            "804/804 [==============================] - 1s 1ms/step - loss: 0.5410 - accuracy: 0.7357\n",
            "\n",
            "Epoch 00025: saving model to checkpoints/weights.25.hdf5\n",
            "Epoch 26/100\n",
            "804/804 [==============================] - 1s 1ms/step - loss: 0.5407 - accuracy: 0.7357\n",
            "Epoch 27/100\n",
            "804/804 [==============================] - 1s 1ms/step - loss: 0.5408 - accuracy: 0.7354\n",
            "Epoch 28/100\n",
            "804/804 [==============================] - 1s 1ms/step - loss: 0.5406 - accuracy: 0.7364\n",
            "Epoch 29/100\n",
            "804/804 [==============================] - 1s 1ms/step - loss: 0.5405 - accuracy: 0.7369\n",
            "Epoch 30/100\n",
            "804/804 [==============================] - 1s 1ms/step - loss: 0.5406 - accuracy: 0.7365\n",
            "\n",
            "Epoch 00030: saving model to checkpoints/weights.30.hdf5\n",
            "Epoch 31/100\n",
            "804/804 [==============================] - 1s 1ms/step - loss: 0.5397 - accuracy: 0.7363\n",
            "Epoch 32/100\n",
            "804/804 [==============================] - 1s 1ms/step - loss: 0.5394 - accuracy: 0.7378\n",
            "Epoch 33/100\n",
            "804/804 [==============================] - 1s 1ms/step - loss: 0.5396 - accuracy: 0.7368\n",
            "Epoch 34/100\n",
            "804/804 [==============================] - 1s 2ms/step - loss: 0.5395 - accuracy: 0.7370\n",
            "Epoch 35/100\n",
            "804/804 [==============================] - 1s 1ms/step - loss: 0.5395 - accuracy: 0.7385\n",
            "\n",
            "Epoch 00035: saving model to checkpoints/weights.35.hdf5\n",
            "Epoch 36/100\n",
            "804/804 [==============================] - 1s 1ms/step - loss: 0.5394 - accuracy: 0.7369\n",
            "Epoch 37/100\n",
            "804/804 [==============================] - 1s 2ms/step - loss: 0.5393 - accuracy: 0.7371\n",
            "Epoch 38/100\n",
            "804/804 [==============================] - 1s 1ms/step - loss: 0.5389 - accuracy: 0.7373\n",
            "Epoch 39/100\n",
            "804/804 [==============================] - 1s 2ms/step - loss: 0.5388 - accuracy: 0.7374\n",
            "Epoch 40/100\n",
            "804/804 [==============================] - 1s 1ms/step - loss: 0.5391 - accuracy: 0.7371\n",
            "\n",
            "Epoch 00040: saving model to checkpoints/weights.40.hdf5\n",
            "Epoch 41/100\n",
            "804/804 [==============================] - 1s 1ms/step - loss: 0.5388 - accuracy: 0.7376\n",
            "Epoch 42/100\n",
            "804/804 [==============================] - 1s 1ms/step - loss: 0.5383 - accuracy: 0.7371\n",
            "Epoch 43/100\n",
            "804/804 [==============================] - 1s 1ms/step - loss: 0.5383 - accuracy: 0.7377\n",
            "Epoch 44/100\n",
            "804/804 [==============================] - 1s 1ms/step - loss: 0.5383 - accuracy: 0.7379\n",
            "Epoch 45/100\n",
            "804/804 [==============================] - 1s 1ms/step - loss: 0.5383 - accuracy: 0.7378\n",
            "\n",
            "Epoch 00045: saving model to checkpoints/weights.45.hdf5\n",
            "Epoch 46/100\n",
            "804/804 [==============================] - 1s 1ms/step - loss: 0.5378 - accuracy: 0.7387\n",
            "Epoch 47/100\n",
            "804/804 [==============================] - 1s 1ms/step - loss: 0.5385 - accuracy: 0.7383\n",
            "Epoch 48/100\n",
            "804/804 [==============================] - 1s 1ms/step - loss: 0.5375 - accuracy: 0.7385\n",
            "Epoch 49/100\n",
            "804/804 [==============================] - 1s 1ms/step - loss: 0.5379 - accuracy: 0.7378\n",
            "Epoch 50/100\n",
            "804/804 [==============================] - 1s 1ms/step - loss: 0.5378 - accuracy: 0.7383\n",
            "\n",
            "Epoch 00050: saving model to checkpoints/weights.50.hdf5\n",
            "Epoch 51/100\n",
            "804/804 [==============================] - 1s 1ms/step - loss: 0.5373 - accuracy: 0.7375\n",
            "Epoch 52/100\n",
            "804/804 [==============================] - 1s 1ms/step - loss: 0.5377 - accuracy: 0.7390\n",
            "Epoch 53/100\n",
            "804/804 [==============================] - 1s 1ms/step - loss: 0.5375 - accuracy: 0.7379\n",
            "Epoch 54/100\n",
            "804/804 [==============================] - 1s 1ms/step - loss: 0.5366 - accuracy: 0.7383\n",
            "Epoch 55/100\n",
            "804/804 [==============================] - 1s 1ms/step - loss: 0.5365 - accuracy: 0.7388\n",
            "\n",
            "Epoch 00055: saving model to checkpoints/weights.55.hdf5\n",
            "Epoch 56/100\n",
            "804/804 [==============================] - 1s 1ms/step - loss: 0.5370 - accuracy: 0.7387\n",
            "Epoch 57/100\n",
            "804/804 [==============================] - 1s 1ms/step - loss: 0.5365 - accuracy: 0.7389\n",
            "Epoch 58/100\n",
            "804/804 [==============================] - 1s 1ms/step - loss: 0.5368 - accuracy: 0.7388\n",
            "Epoch 59/100\n",
            "804/804 [==============================] - 1s 1ms/step - loss: 0.5367 - accuracy: 0.7387\n",
            "Epoch 60/100\n",
            "804/804 [==============================] - 1s 1ms/step - loss: 0.5362 - accuracy: 0.7393\n",
            "\n",
            "Epoch 00060: saving model to checkpoints/weights.60.hdf5\n",
            "Epoch 61/100\n",
            "804/804 [==============================] - 1s 1ms/step - loss: 0.5360 - accuracy: 0.7393\n",
            "Epoch 62/100\n",
            "804/804 [==============================] - 1s 1ms/step - loss: 0.5366 - accuracy: 0.7375\n",
            "Epoch 63/100\n",
            "804/804 [==============================] - 1s 1ms/step - loss: 0.5363 - accuracy: 0.7389\n",
            "Epoch 64/100\n",
            "804/804 [==============================] - 1s 1ms/step - loss: 0.5358 - accuracy: 0.7393\n",
            "Epoch 65/100\n",
            "804/804 [==============================] - 1s 1ms/step - loss: 0.5364 - accuracy: 0.7386\n",
            "\n",
            "Epoch 00065: saving model to checkpoints/weights.65.hdf5\n",
            "Epoch 66/100\n",
            "804/804 [==============================] - 1s 1ms/step - loss: 0.5361 - accuracy: 0.7397\n",
            "Epoch 67/100\n",
            "804/804 [==============================] - 1s 1ms/step - loss: 0.5361 - accuracy: 0.7391\n",
            "Epoch 68/100\n",
            "804/804 [==============================] - 1s 1ms/step - loss: 0.5354 - accuracy: 0.7385\n",
            "Epoch 69/100\n",
            "804/804 [==============================] - 1s 1ms/step - loss: 0.5356 - accuracy: 0.7392\n",
            "Epoch 70/100\n",
            "804/804 [==============================] - 1s 2ms/step - loss: 0.5352 - accuracy: 0.7397\n",
            "\n",
            "Epoch 00070: saving model to checkpoints/weights.70.hdf5\n",
            "Epoch 71/100\n",
            "804/804 [==============================] - 1s 1ms/step - loss: 0.5359 - accuracy: 0.7389\n",
            "Epoch 72/100\n",
            "804/804 [==============================] - 1s 1ms/step - loss: 0.5353 - accuracy: 0.7388\n",
            "Epoch 73/100\n",
            "804/804 [==============================] - 1s 1ms/step - loss: 0.5352 - accuracy: 0.7401\n",
            "Epoch 74/100\n",
            "804/804 [==============================] - 1s 1ms/step - loss: 0.5355 - accuracy: 0.7394\n",
            "Epoch 75/100\n",
            "804/804 [==============================] - 1s 1ms/step - loss: 0.5355 - accuracy: 0.7391\n",
            "\n",
            "Epoch 00075: saving model to checkpoints/weights.75.hdf5\n",
            "Epoch 76/100\n",
            "804/804 [==============================] - 1s 1ms/step - loss: 0.5355 - accuracy: 0.7391\n",
            "Epoch 77/100\n",
            "804/804 [==============================] - 1s 1ms/step - loss: 0.5352 - accuracy: 0.7402\n",
            "Epoch 78/100\n",
            "804/804 [==============================] - 1s 1ms/step - loss: 0.5352 - accuracy: 0.7397\n",
            "Epoch 79/100\n",
            "804/804 [==============================] - 1s 1ms/step - loss: 0.5351 - accuracy: 0.7396\n",
            "Epoch 80/100\n",
            "804/804 [==============================] - 1s 1ms/step - loss: 0.5349 - accuracy: 0.7396\n",
            "\n",
            "Epoch 00080: saving model to checkpoints/weights.80.hdf5\n",
            "Epoch 81/100\n",
            "804/804 [==============================] - 1s 1ms/step - loss: 0.5352 - accuracy: 0.7395\n",
            "Epoch 82/100\n",
            "804/804 [==============================] - 1s 1ms/step - loss: 0.5352 - accuracy: 0.7384\n",
            "Epoch 83/100\n",
            "804/804 [==============================] - 1s 1ms/step - loss: 0.5349 - accuracy: 0.7395\n",
            "Epoch 84/100\n",
            "804/804 [==============================] - 1s 1ms/step - loss: 0.5353 - accuracy: 0.7396\n",
            "Epoch 85/100\n",
            "804/804 [==============================] - 1s 1ms/step - loss: 0.5348 - accuracy: 0.7396\n",
            "\n",
            "Epoch 00085: saving model to checkpoints/weights.85.hdf5\n",
            "Epoch 86/100\n",
            "804/804 [==============================] - 1s 2ms/step - loss: 0.5349 - accuracy: 0.7400\n",
            "Epoch 87/100\n",
            "804/804 [==============================] - 1s 1ms/step - loss: 0.5349 - accuracy: 0.7395\n",
            "Epoch 88/100\n",
            "804/804 [==============================] - 1s 1ms/step - loss: 0.5343 - accuracy: 0.7394\n",
            "Epoch 89/100\n",
            "804/804 [==============================] - 1s 1ms/step - loss: 0.5346 - accuracy: 0.7393\n",
            "Epoch 90/100\n",
            "804/804 [==============================] - 1s 1ms/step - loss: 0.5343 - accuracy: 0.7389\n",
            "\n",
            "Epoch 00090: saving model to checkpoints/weights.90.hdf5\n",
            "Epoch 91/100\n",
            "804/804 [==============================] - 1s 1ms/step - loss: 0.5343 - accuracy: 0.7394\n",
            "Epoch 92/100\n",
            "804/804 [==============================] - 1s 1ms/step - loss: 0.5339 - accuracy: 0.7401\n",
            "Epoch 93/100\n",
            "804/804 [==============================] - 1s 1ms/step - loss: 0.5343 - accuracy: 0.7395\n",
            "Epoch 94/100\n",
            "804/804 [==============================] - 1s 2ms/step - loss: 0.5341 - accuracy: 0.7401\n",
            "Epoch 95/100\n",
            "804/804 [==============================] - 1s 2ms/step - loss: 0.5341 - accuracy: 0.7393\n",
            "\n",
            "Epoch 00095: saving model to checkpoints/weights.95.hdf5\n",
            "Epoch 96/100\n",
            "804/804 [==============================] - 1s 1ms/step - loss: 0.5344 - accuracy: 0.7393\n",
            "Epoch 97/100\n",
            "804/804 [==============================] - 1s 1ms/step - loss: 0.5338 - accuracy: 0.7397\n",
            "Epoch 98/100\n",
            "804/804 [==============================] - 1s 2ms/step - loss: 0.5342 - accuracy: 0.7398\n",
            "Epoch 99/100\n",
            "804/804 [==============================] - 1s 1ms/step - loss: 0.5338 - accuracy: 0.7395\n",
            "Epoch 100/100\n",
            "804/804 [==============================] - 1s 2ms/step - loss: 0.5338 - accuracy: 0.7405\n",
            "\n",
            "Epoch 00100: saving model to checkpoints/weights.100.hdf5\n"
          ]
        }
      ]
    },
    {
      "cell_type": "code",
      "metadata": {
        "colab": {
          "base_uri": "https://localhost:8080/"
        },
        "id": "DYAkJJWutUrK",
        "outputId": "67606f31-14bb-4cc2-8012-f19db6328b88"
      },
      "source": [
        "# Evaluate the model using the test data\n",
        "model_loss, model_accuracy = nn.evaluate(X_test_scaled,y_test,verbose=2)\n",
        "print(f\"Loss: {model_loss}, Accuracy: {model_accuracy}\")"
      ],
      "execution_count": 108,
      "outputs": [
        {
          "output_type": "stream",
          "name": "stdout",
          "text": [
            "268/268 - 0s - loss: 0.5698 - accuracy: 0.7296\n",
            "Loss: 0.5698460936546326, Accuracy: 0.7295626997947693\n"
          ]
        }
      ]
    },
    {
      "cell_type": "code",
      "metadata": {
        "id": "UmtqF9rrcYDW"
      },
      "source": [
        "# Export our model to HDF5 file\n",
        "#  YOUR CODE GOES HERE\n",
        "nn.save(\"AlphabetSoupCharity.h5\")"
      ],
      "execution_count": 109,
      "outputs": []
    },
    {
      "cell_type": "code",
      "metadata": {
        "colab": {
          "base_uri": "https://localhost:8080/",
          "height": 282
        },
        "id": "SVZ-G4VOcYDW",
        "outputId": "28257750-9d13-43b2-d791-459a19b511bc"
      },
      "source": [
        "pd.DataFrame(fit_model.history, index=range(1,len(fit_model.history[\"loss\"])+1)).plot(y=\"loss\")\n"
      ],
      "execution_count": 110,
      "outputs": [
        {
          "output_type": "execute_result",
          "data": {
            "text/plain": [
              "<matplotlib.axes._subplots.AxesSubplot at 0x7f92eb79cc50>"
            ]
          },
          "metadata": {},
          "execution_count": 110
        },
        {
          "output_type": "display_data",
          "data": {
            "image/png": "[encoded data removed]",
            "text/plain": [
              "<Figure size 432x288 with 1 Axes>"
            ]
          },
          "metadata": {
            "needs_background": "light"
          }
        }
      ]
    },
    {
      "cell_type": "markdown",
      "metadata": {
        "id": "1c5k9UJI_ixY"
      },
      "source": [
        "##Optimize the Model"
      ]
    },
    {
      "cell_type": "code",
      "metadata": {
        "id": "Lknlhddp_y1x"
      },
      "source": [
        "# Create a method that creates a new Sequential model with hyperparameter options\n",
        "def create_model(hp):\n",
        "    nn_model = tf.keras.models.Sequential()\n",
        "\n",
        "    # Allow kerastuner to decide which activation function to use in hidden layers\n",
        "    activation = hp.Choice('activation',['relu','tanh','sigmoid'])\n",
        "    \n",
        "    # Allow kerastuner to decide number of neurons in first layer\n",
        "    nn_model.add(tf.keras.layers.Dense(units=hp.Int('first_units',\n",
        "        min_value=1,\n",
        "        max_value=80,\n",
        "        step=2), activation=activation, input_dim=number_input_features))\n",
        "      \n",
        "    # Choose an optimal value from 0.01, 0.001, or 0.0001\n",
        "   # hp_learning_rate = hp.Choice('learning_rate', values=[1e-2, 1e-3, 1e-4])\n",
        "\n",
        "    # Allow kerastuner to decide number of hidden layers and neurons in hidden layers\n",
        "    for i in range(hp.Int('num_layers', 1, 6)):\n",
        "        nn_model.add(tf.keras.layers.Dense(units=hp.Int('units_' + str(i),\n",
        "            min_value=1,\n",
        "            max_value=80,\n",
        "            step=2),\n",
        "            activation=activation))\n",
        "    \n",
        "    nn_model.add(tf.keras.layers.Dense(units=1, activation=\"sigmoid\"))\n",
        "\n",
        "    # Compile the model\n",
        "    nn_model.compile(loss=\"binary_crossentropy\", optimizer='adam', metrics=[\"accuracy\"])\n",
        "    \n",
        "    return nn_model"
      ],
      "execution_count": 114,
      "outputs": []
    },
    {
      "cell_type": "code",
      "metadata": {
        "id": "DOO8gFasb11G"
      },
      "source": [
        "!pip install -q -U keras-tuner"
      ],
      "execution_count": 112,
      "outputs": []
    },
    {
      "cell_type": "code",
      "metadata": {
        "colab": {
          "base_uri": "https://localhost:8080/"
        },
        "id": "GmrnFeRiBnPt",
        "outputId": "7021681c-8c39-4517-98f8-7fdef5f8e54a"
      },
      "source": [
        "# Import the kerastuner library\n",
        "\n",
        "import keras_tuner as kt\n",
        "\n",
        "tuner = kt.Hyperband(\n",
        "    create_model,\n",
        "    objective=\"val_accuracy\",\n",
        "    max_epochs=20,\n",
        "    hyperband_iterations=2)"
      ],
      "execution_count": 115,
      "outputs": [
        {
          "output_type": "stream",
          "name": "stdout",
          "text": [
            "INFO:tensorflow:Reloading Oracle from existing project ./untitled_project/oracle.json\n",
            "INFO:tensorflow:Reloading Tuner from ./untitled_project/tuner0.json\n"
          ]
        }
      ]
    },
    {
      "cell_type": "code",
      "metadata": {
        "colab": {
          "base_uri": "https://localhost:8080/"
        },
        "id": "ZVEnoXu9B2JK",
        "outputId": "2b0bd3f9-5e62-4db7-c3b3-776eb4d2f84f"
      },
      "source": [
        "# Run the kerastuner search for best hyperparameters\n",
        "tuner.search(X_train_scaled,y_train,epochs=20,validation_data=(X_test_scaled,y_test))"
      ],
      "execution_count": 116,
      "outputs": [
        {
          "output_type": "stream",
          "name": "stdout",
          "text": [
            "INFO:tensorflow:Oracle triggered exit\n"
          ]
        }
      ]
    },
    {
      "cell_type": "code",
      "metadata": {
        "colab": {
          "base_uri": "https://localhost:8080/"
        },
        "id": "gRs0IEMkCBYc",
        "outputId": "b507f497-7b27-4090-def5-19ce4c1a5206"
      },
      "source": [
        "# Get best model hyperparameters\n",
        "best_hyper = tuner.get_best_hyperparameters(1)[0]\n",
        "best_hyper.values"
      ],
      "execution_count": 117,
      "outputs": [
        {
          "output_type": "execute_result",
          "data": {
            "text/plain": [
              "{'activation': 'tanh',\n",
              " 'first_units': 9,\n",
              " 'num_layers': 4,\n",
              " 'tuner/bracket': 0,\n",
              " 'tuner/epochs': 20,\n",
              " 'tuner/initial_epoch': 0,\n",
              " 'tuner/round': 0,\n",
              " 'units_0': 7,\n",
              " 'units_1': 5,\n",
              " 'units_2': 7,\n",
              " 'units_3': 5,\n",
              " 'units_4': 9,\n",
              " 'units_5': 5}"
            ]
          },
          "metadata": {},
          "execution_count": 117
        }
      ]
    },
    {
      "cell_type": "code",
      "metadata": {
        "colab": {
          "base_uri": "https://localhost:8080/"
        },
        "id": "YEtSp3W8JGZe",
        "outputId": "a0100451-16a6-477a-87d0-0588165aea35"
      },
      "source": [
        "# Evaluate best model against full test data\n",
        "best_model = tuner.get_best_models(1)[0]\n",
        "model_loss, model_accuracy = best_model.evaluate(X_test_scaled,y_test,verbose=2)\n",
        "print(f\"Loss: {model_loss}, Accuracy: {model_accuracy}\")"
      ],
      "execution_count": 118,
      "outputs": [
        {
          "output_type": "stream",
          "name": "stdout",
          "text": [
            "268/268 - 0s - loss: 0.5492 - accuracy: 0.7349\n",
            "Loss: 0.5492064356803894, Accuracy: 0.7349271178245544\n"
          ]
        }
      ]
    },
    {
      "cell_type": "code",
      "metadata": {
        "colab": {
          "base_uri": "https://localhost:8080/"
        },
        "id": "phEIr5MfXlt5",
        "outputId": "a40973c7-2509-42cc-c071-30c533c7276c"
      },
      "source": [
        "best_model.summary()"
      ],
      "execution_count": 119,
      "outputs": [
        {
          "output_type": "stream",
          "name": "stdout",
          "text": [
            "Model: \"sequential\"\n",
            "_________________________________________________________________\n",
            "Layer (type)                 Output Shape              Param #   \n",
            "=================================================================\n",
            "dense (Dense)                (None, 9)                 396       \n",
            "_________________________________________________________________\n",
            "dense_1 (Dense)              (None, 7)                 70        \n",
            "_________________________________________________________________\n",
            "dense_2 (Dense)              (None, 5)                 40        \n",
            "_________________________________________________________________\n",
            "dense_3 (Dense)              (None, 7)                 42        \n",
            "_________________________________________________________________\n",
            "dense_4 (Dense)              (None, 5)                 40        \n",
            "_________________________________________________________________\n",
            "dense_5 (Dense)              (None, 1)                 6         \n",
            "=================================================================\n",
            "Total params: 594\n",
            "Trainable params: 594\n",
            "Non-trainable params: 0\n",
            "_________________________________________________________________\n"
          ]
        }
      ]
    },
    {
      "cell_type": "code",
      "metadata": {
        "id": "3lJ1IY-0JYrM"
      },
      "source": [
        "# Export and save model to HDF5 file\n",
        "best_model.save(\"AlphabetSoupCharity_Optimization.h5\")"
      ],
      "execution_count": 85,
      "outputs": []
    }
  ]
}